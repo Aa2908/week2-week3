{
 "cells": [
  {
   "cell_type": "markdown",
   "id": "6aafdab5",
   "metadata": {},
   "source": [
    "# QS:1"
   ]
  },
  {
   "cell_type": "markdown",
   "id": "655f830b",
   "metadata": {},
   "source": [
    "TASK: Try inputting the following code and examine the results. \n",
    "total = 100\n",
    "\n",
    "print(\"The total is\", total)\n",
    "The right hand side of the operand does not have to be a literal value, as in the above example. It can be an expression that can itself refer to existing variables.\n"
   ]
  },
  {
   "cell_type": "code",
   "execution_count": 1,
   "id": "be6917f0",
   "metadata": {},
   "outputs": [
    {
     "name": "stdout",
     "output_type": "stream",
     "text": [
      "The total is 100\n"
     ]
    }
   ],
   "source": [
    "total = 100\n",
    "print(\"The total is\", total)"
   ]
  },
  {
   "cell_type": "markdown",
   "id": "aa8d5894",
   "metadata": {},
   "source": [
    "# QS:2"
   ]
  },
  {
   "cell_type": "markdown",
   "id": "935032f4",
   "metadata": {},
   "source": [
    "TASK: Try inputting the following code, but replace each of the assignment expressions with the equivalent augmented assignment.\n",
    "total = total - 1\n",
    "print(\"The total is\", total)\n",
    "\n",
    "total = total * 4\n",
    "print(\"The total is\", total)\n",
    "\n",
    "total = total / 2\n",
    "print(\"The total is\", total)\n"
   ]
  },
  {
   "cell_type": "code",
   "execution_count": 2,
   "id": "8e41a6ad",
   "metadata": {},
   "outputs": [
    {
     "name": "stdout",
     "output_type": "stream",
     "text": [
      "The total is now 199\n"
     ]
    }
   ],
   "source": [
    "total = 100\n",
    "total += 99\n",
    "print(\"The total is now\", total)"
   ]
  },
  {
   "cell_type": "markdown",
   "id": "5b508cbc",
   "metadata": {},
   "source": [
    "# QS:3"
   ]
  },
  {
   "cell_type": "markdown",
   "id": "2363b6e7",
   "metadata": {},
   "source": [
    "TASK: Try extending the code below so that it creates a new variable called ‘average’, that is set to equal the average calculated from the two other variables.\n",
    "total = 98.2\n",
    "count = 5\n",
    "\n",
    "\n"
   ]
  },
  {
   "cell_type": "code",
   "execution_count": 3,
   "id": "2ab2c00a",
   "metadata": {},
   "outputs": [
    {
     "name": "stdout",
     "output_type": "stream",
     "text": [
      "The total is 98.2\n",
      "The count is 5\n",
      "The average is 19.64\n"
     ]
    }
   ],
   "source": [
    "total = 98.2\n",
    "count = 5\n",
    "\n",
    "average = total / count\n",
    "\n",
    "print(\"The total is\", total)\n",
    "print(\"The count is\", count)\n",
    "print(\"The average is\", average)"
   ]
  },
  {
   "cell_type": "markdown",
   "id": "66836b16",
   "metadata": {},
   "source": [
    "# QS:4"
   ]
  },
  {
   "cell_type": "markdown",
   "id": "4166f689",
   "metadata": {},
   "source": [
    "TASK: Use the type() function to determine the type of each of the following values.\n",
    "False\n",
    "1000\n",
    "100.111\n",
    "\"Hello\"\n",
    "True\n",
    "100 / 5\n",
    "100 // 5\n"
   ]
  },
  {
   "cell_type": "code",
   "execution_count": 4,
   "id": "8fef055c",
   "metadata": {},
   "outputs": [
    {
     "name": "stdout",
     "output_type": "stream",
     "text": [
      "20\n",
      "1010\n"
     ]
    }
   ],
   "source": [
    "result_int = 10 + 10\n",
    "print(result_int)        \n",
    "result_str = \"10\" + \"10\"\n",
    "print(result_str) "
   ]
  },
  {
   "cell_type": "markdown",
   "id": "e26c141a",
   "metadata": {},
   "source": [
    "# QS:5"
   ]
  },
  {
   "cell_type": "markdown",
   "id": "858885f8",
   "metadata": {},
   "source": [
    "TASK: Input the following code and examine the result. What is the * operator doing to the given string operand?\n",
    "\"ABC\" * 10\n"
   ]
  },
  {
   "cell_type": "code",
   "execution_count": 5,
   "id": "3249d55f",
   "metadata": {},
   "outputs": [
    {
     "name": "stdout",
     "output_type": "stream",
     "text": [
      "ABCABCABCABCABCABCABCABCABCABC\n"
     ]
    }
   ],
   "source": [
    "result = \"ABC\" * 10\n",
    "print(result)"
   ]
  },
  {
   "cell_type": "markdown",
   "id": "3b2f402c",
   "metadata": {},
   "source": [
    "# QS:6"
   ]
  },
  {
   "cell_type": "markdown",
   "id": "f8aa9258",
   "metadata": {},
   "source": [
    "\n",
    "TASK: Write some code that calls the print() function several times, displaying your name, address and contact details. Add additional calls to the print() function which includes an argument that calculates and prints the length of your name, by calling the len() function.\n"
   ]
  },
  {
   "cell_type": "code",
   "execution_count": 6,
   "id": "776a2ec0",
   "metadata": {},
   "outputs": [
    {
     "name": "stdout",
     "output_type": "stream",
     "text": [
      "Name: Your Name\n",
      "Address: Your Address\n",
      "Contact Details: Your Contact Details\n",
      "Length of Name: 9\n"
     ]
    }
   ],
   "source": [
    "name = \"Your Name\"\n",
    "address = \"Your Address\"\n",
    "contact_details = \"Your Contact Details\"\n",
    "\n",
    "print(\"Name:\", name)\n",
    "print(\"Address:\", address)\n",
    "print(\"Contact Details:\", contact_details)\n",
    "\n",
    "print(\"Length of Name:\", len(name))"
   ]
  },
  {
   "cell_type": "markdown",
   "id": "abe7cace",
   "metadata": {},
   "source": [
    "# QS:7"
   ]
  },
  {
   "cell_type": "markdown",
   "id": "15d05169",
   "metadata": {},
   "source": [
    "TASK: Input the following code, when asked to type your age input a numeric value such as 20. Does this program work? If not, why?\n",
    "age = input(\"Enter your age \")\n",
    "print(\"in one year your age will be\", age + 1)\n"
   ]
  },
  {
   "cell_type": "code",
   "execution_count": 7,
   "id": "c9378279",
   "metadata": {},
   "outputs": [
    {
     "name": "stdout",
     "output_type": "stream",
     "text": [
      "Enter your age: 45\n",
      "In one year, you will be 46\n"
     ]
    }
   ],
   "source": [
    "age_str = input(\"Enter your age: \")\n",
    "age = int(age_str)\n",
    "print(\"In one year, you will be\", age + 1)\n"
   ]
  },
  {
   "cell_type": "markdown",
   "id": "65d0dbf0",
   "metadata": {},
   "source": [
    "# QS:8"
   ]
  },
  {
   "cell_type": "markdown",
   "id": "460c44b3",
   "metadata": {},
   "source": [
    "TASK: Try writing the above assignment statement but only use double quotes instead of single quotes as the string delimiter. What is the result?\n"
   ]
  },
  {
   "cell_type": "code",
   "execution_count": 9,
   "id": "97907155",
   "metadata": {},
   "outputs": [
    {
     "name": "stdout",
     "output_type": "stream",
     "text": [
      "Enter the first numeric value: 9\n",
      "Enter the second numeric value: 7\n",
      "The product of 9.0 and 7.0 is: 63.0\n"
     ]
    }
   ],
   "source": [
    "value1_str = input(\"Enter the first numeric value: \")\n",
    "value2_str = input(\"Enter the second numeric value: \")\n",
    "\n",
    "value1 = float(value1_str)\n",
    "value2 = float(value2_str)\n",
    "\n",
    "product = value1 * value2\n",
    "print(\"The product of\", value1, \"and\", value2, \"is:\", product)"
   ]
  },
  {
   "cell_type": "markdown",
   "id": "a1f2c304",
   "metadata": {},
   "source": [
    "# QS:9"
   ]
  },
  {
   "cell_type": "markdown",
   "id": "b67c5629",
   "metadata": {},
   "source": [
    "TASK: Write some code that calls a print() function, which takes a single string argument that results in the following text being displayed (exactly as shown).\n",
    "This text includes characters such as '\\' '\"' and \"'\",\n",
    "This is a new line that starts with a tab\n",
    "\tThis new line starts with two tabs"
   ]
  },
  {
   "cell_type": "code",
   "execution_count": 10,
   "id": "36645188",
   "metadata": {},
   "outputs": [
    {
     "name": "stdout",
     "output_type": "stream",
     "text": [
      "\n",
      "This text includes characters such as '\\' '\"' and \"'\",\n",
      "This is a new line that starts with a tab\n",
      "\tThis new line starts with two tabs\n",
      "\n"
     ]
    }
   ],
   "source": [
    "print(\"\"\"\n",
    "This text includes characters such as '\\\\' '\"' and \"'\",\n",
    "This is a new line that starts with a tab\n",
    "\\tThis new line starts with two tabs\n",
    "\"\"\")\n"
   ]
  },
  {
   "cell_type": "markdown",
   "id": "53e58454",
   "metadata": {},
   "source": [
    "# QS:10"
   ]
  },
  {
   "cell_type": "markdown",
   "id": "5bf9498d",
   "metadata": {},
   "source": [
    "TASK: Write some code that calls a print() function, which takes a single string argument that results in the following text being displayed (exactly as shown).\n"
   ]
  },
  {
   "cell_type": "code",
   "execution_count": 11,
   "id": "160d0316",
   "metadata": {},
   "outputs": [
    {
     "name": "stdout",
     "output_type": "stream",
     "text": [
      "\\\\\\\\\\\\\\\\\\\\\\\\\\\\\\\\\\\\\\\\\\\\\\\\\\\\\\\\\\\\\\\\\\\\\\\\\\\\\\\\\\\\\\\\\\\\\\\\\\\\\\\\\\\\\n",
      "Hello there!\n",
      "\\\\\\\\\\\\\\\\\\\\\\\\\\\\\\\\\\\\\\\\\\\\\\\\\\\\\\\\\\\\\\\\\\\\\\\\\\\\\\\\\\\\\\\\\\\\\\\\\\\\\\\\\\\\\n"
     ]
    }
   ],
   "source": [
    "print(r\"\\\\\\\\\\\\\\\\\\\\\\\\\\\\\\\\\\\\\\\\\\\\\\\\\\\\\\\\\\\\\\\\\\\\\\\\\\\\\\\\\\\\\\\\\\\\\\\\\\\\\\\\\\\\\")\n",
    "print(\"Hello there!\")\n",
    "print(r\"\\\\\\\\\\\\\\\\\\\\\\\\\\\\\\\\\\\\\\\\\\\\\\\\\\\\\\\\\\\\\\\\\\\\\\\\\\\\\\\\\\\\\\\\\\\\\\\\\\\\\\\\\\\\\")"
   ]
  },
  {
   "cell_type": "markdown",
   "id": "96fd5942",
   "metadata": {},
   "source": [
    "# QS:11"
   ]
  },
  {
   "cell_type": "markdown",
   "id": "43ab7e50",
   "metadata": {},
   "source": [
    "TASK: Write some code that calls a print() function, which takes a single string argument that results in the following text being displayed (exactly as shown). Do this without the use of any escape sequences.\n"
   ]
  },
  {
   "cell_type": "code",
   "execution_count": 13,
   "id": "8b4ad295",
   "metadata": {},
   "outputs": [
    {
     "name": "stdout",
     "output_type": "stream",
     "text": [
      "\n",
      "This text spans three lines,\n",
      "and includes both single ('),\n",
      "and double quotes (\").\n",
      "\n"
     ]
    }
   ],
   "source": [
    "print(\"\"\"\n",
    "This text spans three lines,\n",
    "and includes both single ('),\n",
    "and double quotes (\").\n",
    "\"\"\")"
   ]
  },
  {
   "cell_type": "markdown",
   "id": "becfea7f",
   "metadata": {},
   "source": [
    "# QS:12"
   ]
  },
  {
   "cell_type": "markdown",
   "id": "52d8e4e4",
   "metadata": {},
   "source": [
    "surname = \"Palin\"\n",
    "initial = surname[0]\n",
    "\n",
    "TASK: Rewrite the above example, so that the third letter of the ‘surname’ is accessed rather than the first, then print this letter to the screen.\n"
   ]
  },
  {
   "cell_type": "code",
   "execution_count": 17,
   "id": "21742098",
   "metadata": {},
   "outputs": [
    {
     "name": "stdout",
     "output_type": "stream",
     "text": [
      "The third letter of the surname is: l\n"
     ]
    }
   ],
   "source": [
    "surname = \"Palin\"\n",
    "third_letter = surname[2]\n",
    "print(\"The third letter of the surname is:\", third_letter)"
   ]
  },
  {
   "cell_type": "markdown",
   "id": "bdad470e",
   "metadata": {},
   "source": [
    "# QS:13"
   ]
  },
  {
   "cell_type": "markdown",
   "id": "977143a7",
   "metadata": {},
   "source": [
    "TASK: Rewrite the above example, so that the tenth letter of the ‘surname’ is accessed, and note the result.\n",
    "The Python language supports the concept of negative index values. If the given index is less than zero then it is used as an offset from the right-side of the string, rather than the left-side. For example, to access the last character of a string, an index of -1 can be used as follows -\n",
    "surname = \"Palin\"\n",
    "last = surname[-1]\n"
   ]
  },
  {
   "cell_type": "code",
   "execution_count": 16,
   "id": "8b549d6c",
   "metadata": {},
   "outputs": [
    {
     "ename": "IndexError",
     "evalue": "string index out of range",
     "output_type": "error",
     "traceback": [
      "\u001b[0;31m---------------------------------------------------------------------------\u001b[0m",
      "\u001b[0;31mIndexError\u001b[0m                                Traceback (most recent call last)",
      "Cell \u001b[0;32mIn[16], line 2\u001b[0m\n\u001b[1;32m      1\u001b[0m surname \u001b[38;5;241m=\u001b[39m \u001b[38;5;124m\"\u001b[39m\u001b[38;5;124mPalin\u001b[39m\u001b[38;5;124m\"\u001b[39m\n\u001b[0;32m----> 2\u001b[0m tenth_letter \u001b[38;5;241m=\u001b[39m \u001b[43msurname\u001b[49m\u001b[43m[\u001b[49m\u001b[38;5;241;43m9\u001b[39;49m\u001b[43m]\u001b[49m\n\u001b[1;32m      3\u001b[0m \u001b[38;5;28mprint\u001b[39m(\u001b[38;5;124m\"\u001b[39m\u001b[38;5;124mThe tenth letter of the surname is:\u001b[39m\u001b[38;5;124m\"\u001b[39m, tenth_letter)\n",
      "\u001b[0;31mIndexError\u001b[0m: string index out of range"
     ]
    }
   ],
   "source": [
    "surname = \"Palin\"\n",
    "tenth_letter = surname[9]\n",
    "print(\"The tenth letter of the surname is:\", tenth_letter)"
   ]
  },
  {
   "cell_type": "markdown",
   "id": "71b1b5b3",
   "metadata": {},
   "source": [
    "# QS:14"
   ]
  },
  {
   "cell_type": "markdown",
   "id": "af419f3a",
   "metadata": {},
   "source": [
    "TASK: Rewrite the above example, so that the second from last letter of the ‘surname’ is accessed rather than the last, then print this letter to the screen.\n",
    "As with positive indices, attempting to use a negative index that is out of range will result in an error, e.g. the following would cause an error -\n",
    "surname = \"Palin\"\n",
    "val = surname[-6]\n"
   ]
  },
  {
   "cell_type": "code",
   "execution_count": 18,
   "id": "a0900d0a",
   "metadata": {},
   "outputs": [
    {
     "name": "stdout",
     "output_type": "stream",
     "text": [
      "The second from last letter of the surname is: i\n"
     ]
    }
   ],
   "source": [
    "surname = \"Palin\"\n",
    "second_from_last = surname[-2]\n",
    "print(\"The second from last letter of the surname is:\", second_from_last)\n"
   ]
  },
  {
   "cell_type": "markdown",
   "id": "535d9087",
   "metadata": {},
   "source": [
    "# QS:15"
   ]
  },
  {
   "cell_type": "markdown",
   "id": "59133161",
   "metadata": {},
   "source": [
    "Rewrite the above example, so that all of the characters of the ‘surname’ except the first character are sliced and then displayed on the screen.\n",
    "Both the start and index values may be omitted. If the start index is not present then it defaults to 0 (the first character), and if the end index is not present then it defaults to the length of the string. Therefore a slice that contains all the characters from a string could be accessed using the following -\n"
   ]
  },
  {
   "cell_type": "code",
   "execution_count": 19,
   "id": "fa5621ef",
   "metadata": {},
   "outputs": [
    {
     "name": "stdout",
     "output_type": "stream",
     "text": [
      "All characters of the surname except the first one: alin\n"
     ]
    }
   ],
   "source": [
    "tail = surname[1:]\n",
    "print(\"All characters of the surname except the first one:\", tail)\n"
   ]
  },
  {
   "cell_type": "markdown",
   "id": "0e6a8b62",
   "metadata": {},
   "source": [
    "# QS:16"
   ]
  },
  {
   "cell_type": "markdown",
   "id": "160d4f8f",
   "metadata": {},
   "source": [
    "TASK: Write code that accesses and prints all characters of  the ‘surname’ except the last character.\n"
   ]
  },
  {
   "cell_type": "code",
   "execution_count": 21,
   "id": "3511c71d",
   "metadata": {},
   "outputs": [
    {
     "name": "stdout",
     "output_type": "stream",
     "text": [
      "All characters of the surname except the last one: Pali\n"
     ]
    }
   ],
   "source": [
    "all_except_last = surname[:-1]\n",
    "print(\"All characters of the surname except the last one:\", all_except_last)"
   ]
  },
  {
   "cell_type": "markdown",
   "id": "1bcc5c52",
   "metadata": {},
   "source": [
    "# QS:17"
   ]
  },
  {
   "cell_type": "markdown",
   "id": "bf360f8f",
   "metadata": {},
   "source": [
    "TASK: Write code that uses slicing to access then print the first four prime numbers defined within the ‘primes’ list given above. Note: you will have to input that list first for testing purposes.\n"
   ]
  },
  {
   "cell_type": "code",
   "execution_count": 23,
   "id": "5df1848c",
   "metadata": {},
   "outputs": [
    {
     "name": "stdout",
     "output_type": "stream",
     "text": [
      "The first four prime numbers: [2, 3, 5, 7]\n"
     ]
    }
   ],
   "source": [
    "primes = [2, 3, 5, 7, 11, 13, 17, 19, 23, 29]\n",
    "\n",
    "first_four_primes = primes[:4]\n",
    "print(\"The first four prime numbers:\", first_four_primes)"
   ]
  },
  {
   "cell_type": "markdown",
   "id": "530fdedf",
   "metadata": {},
   "source": [
    "# QS:18"
   ]
  },
  {
   "cell_type": "markdown",
   "id": "fa75582c",
   "metadata": {},
   "source": [
    "TASK: Write code that uses slicing to insert two new names just before the final name within the  ‘names’ list.\n",
    "Values can also be added to the end of a list using the append() method (note: a method is like a function that works on a specific type of object). For example -\n",
    "names.append(\"Brian\")\n",
    "As with strings, the + operator can also be applied to lists in order to concatenate them together, e.g.\n",
    "names = names + [\"Mark\"]\n"
   ]
  },
  {
   "cell_type": "code",
   "execution_count": 24,
   "id": "b2c9dfcd",
   "metadata": {},
   "outputs": [
    {
     "name": "stdout",
     "output_type": "stream",
     "text": [
      "Updated 'names' list: ['Alice', 'Bob', 'Charlie', 'David', 'Grace', 'Frank', 'Eve']\n"
     ]
    }
   ],
   "source": [
    "names = [\"Alice\", \"Bob\", \"Charlie\", \"David\", \"Eve\"]\n",
    "\n",
    "new_names = [\"Grace\", \"Frank\"]\n",
    "names[-1:-1] = new_names\n",
    "\n",
    "print(\"Updated 'names' list:\", names)"
   ]
  },
  {
   "cell_type": "markdown",
   "id": "e4cfd56e",
   "metadata": {},
   "source": [
    "# QS:19"
   ]
  },
  {
   "cell_type": "markdown",
   "id": "9f0584b5",
   "metadata": {},
   "source": [
    "nums = [1,2,3] * 5\n",
    "TASK: Work out in your head what the contents of the ‘nums’ list would be, then check this using the Python interpreter.\n"
   ]
  },
  {
   "cell_type": "code",
   "execution_count": 26,
   "id": "4c00f203",
   "metadata": {},
   "outputs": [
    {
     "name": "stdout",
     "output_type": "stream",
     "text": [
      "Duplicated 'nums' list: [1, 2, 3, 1, 2, 3, 1, 2, 3, 1, 2, 3, 1, 2, 3]\n"
     ]
    }
   ],
   "source": [
    "nums = [1, 2, 3] * 5\n",
    "\n",
    "print(\"Duplicated 'nums' list:\", nums)\n"
   ]
  },
  {
   "cell_type": "code",
   "execution_count": null,
   "id": "ed8bc2af",
   "metadata": {},
   "outputs": [],
   "source": []
  }
 ],
 "metadata": {
  "kernelspec": {
   "display_name": "Python 3 (ipykernel)",
   "language": "python",
   "name": "python3"
  },
  "language_info": {
   "codemirror_mode": {
    "name": "ipython",
    "version": 3
   },
   "file_extension": ".py",
   "mimetype": "text/x-python",
   "name": "python",
   "nbconvert_exporter": "python",
   "pygments_lexer": "ipython3",
   "version": "3.10.9"
  }
 },
 "nbformat": 4,
 "nbformat_minor": 5
}
