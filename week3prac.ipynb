{
 "cells": [
  {
   "cell_type": "code",
   "execution_count": 5,
   "id": "755b3088",
   "metadata": {},
   "outputs": [
    {
     "data": {
      "text/plain": [
       "True"
      ]
     },
     "execution_count": 5,
     "metadata": {},
     "output_type": "execute_result"
    }
   ],
   "source": [
    "10 < 100    # This expression evaluates to True because 10 is less than 100."
   ]
  },
  {
   "cell_type": "code",
   "execution_count": 6,
   "id": "6b4c2a4b",
   "metadata": {},
   "outputs": [
    {
     "data": {
      "text/plain": [
       "False"
      ]
     },
     "execution_count": 6,
     "metadata": {},
     "output_type": "execute_result"
    }
   ],
   "source": [
    "100 != 100  # This expression evaluates to False because 100 is equal to 100."
   ]
  },
  {
   "cell_type": "code",
   "execution_count": 7,
   "id": "183c5f1e",
   "metadata": {},
   "outputs": [
    {
     "data": {
      "text/plain": [
       "True"
      ]
     },
     "execution_count": 7,
     "metadata": {},
     "output_type": "execute_result"
    }
   ],
   "source": [
    "50 >= 50    # This expression evaluates to True because 50 is greater than or equal to 50."
   ]
  },
  {
   "cell_type": "markdown",
   "id": "e7b9a285",
   "metadata": {},
   "source": [
    "# TASK Num:2"
   ]
  },
  {
   "cell_type": "code",
   "execution_count": 9,
   "id": "df424b55",
   "metadata": {},
   "outputs": [
    {
     "name": "stdout",
     "output_type": "stream",
     "text": [
      "Is the age under 18?:False\n",
      "Is the age under 21?: False\n",
      "Is the age under 31?: True\n"
     ]
    }
   ],
   "source": [
    "age = 21  \n",
    "\n",
    "is_under_18 = age < 18\n",
    "is_under_21 = age < 21\n",
    "is_under_31 = age < 31\n",
    "\n",
    "print(f\"Is the age under 18?:{is_under_18}\")\n",
    "print(f\"Is the age under 21?: {is_under_21}\")\n",
    "print(f\"Is the age under 31?: {is_under_31}\")\n",
    "    "
   ]
  },
  {
   "cell_type": "markdown",
   "id": "9d2b519c",
   "metadata": {},
   "source": [
    "# TASK Num:3"
   ]
  },
  {
   "cell_type": "code",
   "execution_count": 10,
   "id": "c00280d7",
   "metadata": {},
   "outputs": [
    {
     "data": {
      "text/plain": [
       "True"
      ]
     },
     "execution_count": 10,
     "metadata": {},
     "output_type": "execute_result"
    }
   ],
   "source": [
    "\"a\"<\"b\""
   ]
  },
  {
   "cell_type": "code",
   "execution_count": 11,
   "id": "8d7a47ca",
   "metadata": {},
   "outputs": [
    {
     "data": {
      "text/plain": [
       "False"
      ]
     },
     "execution_count": 11,
     "metadata": {},
     "output_type": "execute_result"
    }
   ],
   "source": [
    "\"b\"<\"a\""
   ]
  },
  {
   "cell_type": "code",
   "execution_count": 12,
   "id": "5c311f12",
   "metadata": {},
   "outputs": [
    {
     "data": {
      "text/plain": [
       "True"
      ]
     },
     "execution_count": 12,
     "metadata": {},
     "output_type": "execute_result"
    }
   ],
   "source": [
    "\"John\"<\"Terry\""
   ]
  },
  {
   "cell_type": "code",
   "execution_count": 13,
   "id": "3bf8d077",
   "metadata": {},
   "outputs": [
    {
     "data": {
      "text/plain": [
       "False"
      ]
     },
     "execution_count": 13,
     "metadata": {},
     "output_type": "execute_result"
    }
   ],
   "source": [
    "\"john\"<\"Terry\""
   ]
  },
  {
   "cell_type": "code",
   "execution_count": 14,
   "id": "c09e5ec7",
   "metadata": {},
   "outputs": [
    {
     "data": {
      "text/plain": [
       "False"
      ]
     },
     "execution_count": 14,
     "metadata": {},
     "output_type": "execute_result"
    }
   ],
   "source": [
    "[1,2,3]<[1,2,3]"
   ]
  },
  {
   "cell_type": "code",
   "execution_count": 15,
   "id": "cb9eb022",
   "metadata": {},
   "outputs": [
    {
     "data": {
      "text/plain": [
       "True"
      ]
     },
     "execution_count": 15,
     "metadata": {},
     "output_type": "execute_result"
    }
   ],
   "source": [
    "[1,2,2]<[1,2,3]"
   ]
  },
  {
   "cell_type": "markdown",
   "id": "261ca91c",
   "metadata": {},
   "source": [
    "# TASK Num:4"
   ]
  },
  {
   "cell_type": "code",
   "execution_count": 16,
   "id": "1cd36408",
   "metadata": {},
   "outputs": [
    {
     "data": {
      "text/plain": [
       "True"
      ]
     },
     "execution_count": 16,
     "metadata": {},
     "output_type": "execute_result"
    }
   ],
   "source": [
    "5<10.2"
   ]
  },
  {
   "cell_type": "code",
   "execution_count": 17,
   "id": "8090b6cf",
   "metadata": {},
   "outputs": [
    {
     "ename": "TypeError",
     "evalue": "'<' not supported between instances of 'int' and 'str'",
     "output_type": "error",
     "traceback": [
      "\u001b[0;31m---------------------------------------------------------------------------\u001b[0m",
      "\u001b[0;31mTypeError\u001b[0m                                 Traceback (most recent call last)",
      "Cell \u001b[0;32mIn[17], line 1\u001b[0m\n\u001b[0;32m----> 1\u001b[0m \u001b[38;5;241;43m5\u001b[39;49m\u001b[38;5;241;43m<\u001b[39;49m\u001b[38;5;124;43m\"\u001b[39;49m\u001b[38;5;124;43mMonty\u001b[39;49m\u001b[38;5;124;43m\"\u001b[39;49m\n",
      "\u001b[0;31mTypeError\u001b[0m: '<' not supported between instances of 'int' and 'str'"
     ]
    }
   ],
   "source": [
    "5<\"Monty\""
   ]
  },
  {
   "cell_type": "code",
   "execution_count": 18,
   "id": "ba041ebd",
   "metadata": {},
   "outputs": [
    {
     "ename": "TypeError",
     "evalue": "'<' not supported between instances of 'int' and 'str'",
     "output_type": "error",
     "traceback": [
      "\u001b[0;31m---------------------------------------------------------------------------\u001b[0m",
      "\u001b[0;31mTypeError\u001b[0m                                 Traceback (most recent call last)",
      "Cell \u001b[0;32mIn[18], line 1\u001b[0m\n\u001b[0;32m----> 1\u001b[0m \u001b[38;5;241;43m5\u001b[39;49m\u001b[38;5;241;43m<\u001b[39;49m\u001b[38;5;124;43m\"\u001b[39;49m\u001b[38;5;124;43m5\u001b[39;49m\u001b[38;5;124;43m\"\u001b[39;49m\n",
      "\u001b[0;31mTypeError\u001b[0m: '<' not supported between instances of 'int' and 'str'"
     ]
    }
   ],
   "source": [
    "5<\"5\""
   ]
  },
  {
   "cell_type": "code",
   "execution_count": 19,
   "id": "ac48984d",
   "metadata": {},
   "outputs": [
    {
     "data": {
      "text/plain": [
       "False"
      ]
     },
     "execution_count": 19,
     "metadata": {},
     "output_type": "execute_result"
    }
   ],
   "source": [
    "5==\"5\""
   ]
  },
  {
   "cell_type": "markdown",
   "id": "f4b0fa79",
   "metadata": {},
   "source": [
    "# TASK Num:5"
   ]
  },
  {
   "cell_type": "code",
   "execution_count": 20,
   "id": "d76e9519",
   "metadata": {},
   "outputs": [
    {
     "name": "stdout",
     "output_type": "stream",
     "text": [
      "Enter your age: 9\n"
     ]
    },
    {
     "data": {
      "text/plain": [
       "False"
      ]
     },
     "execution_count": 20,
     "metadata": {},
     "output_type": "execute_result"
    }
   ],
   "source": [
    "age=input(\"Enter your age: \")\n",
    "18==age"
   ]
  },
  {
   "cell_type": "code",
   "execution_count": 21,
   "id": "580a7821",
   "metadata": {},
   "outputs": [
    {
     "data": {
      "text/plain": [
       "False"
      ]
     },
     "execution_count": 21,
     "metadata": {},
     "output_type": "execute_result"
    }
   ],
   "source": [
    "age=30\n",
    "age>=18 and age<=65\n",
    "age<18 or age>65\n",
    "not age>18"
   ]
  },
  {
   "cell_type": "code",
   "execution_count": 22,
   "id": "72ff0829",
   "metadata": {},
   "outputs": [
    {
     "data": {
      "text/plain": [
       "False"
      ]
     },
     "execution_count": 22,
     "metadata": {},
     "output_type": "execute_result"
    }
   ],
   "source": [
    "age= 30\n",
    "(age >=18 and age <=65 )and (not age== 30)"
   ]
  },
  {
   "cell_type": "markdown",
   "id": "845d0871",
   "metadata": {},
   "source": [
    "# TASK Num:6"
   ]
  },
  {
   "cell_type": "code",
   "execution_count": 51,
   "id": "77f4931b",
   "metadata": {},
   "outputs": [
    {
     "ename": "NameError",
     "evalue": "name 'weight' is not defined",
     "output_type": "error",
     "traceback": [
      "\u001b[0;31m---------------------------------------------------------------------------\u001b[0m",
      "\u001b[0;31mNameError\u001b[0m                                 Traceback (most recent call last)",
      "Cell \u001b[0;32mIn[51], line 1\u001b[0m\n\u001b[0;32m----> 1\u001b[0m weight_check \u001b[38;5;241m=\u001b[39m \u001b[38;5;241m100\u001b[39m \u001b[38;5;241m<\u001b[39m \u001b[43mweight\u001b[49m \u001b[38;5;241m<\u001b[39m \u001b[38;5;241m200\u001b[39m\n\u001b[1;32m      2\u001b[0m height_check \u001b[38;5;241m=\u001b[39m \u001b[38;5;241m131\u001b[39m \u001b[38;5;241m<\u001b[39m height \u001b[38;5;241m<\u001b[39m \u001b[38;5;241m160\u001b[39m\n\u001b[1;32m      4\u001b[0m \u001b[38;5;28mprint\u001b[39m(weight_check)\n",
      "\u001b[0;31mNameError\u001b[0m: name 'weight' is not defined"
     ]
    }
   ],
   "source": [
    "weight_check = 100 < weight < 200\n",
    "height_check = 131 < height < 160\n",
    "\n",
    "print(weight_check)\n",
    "print(height_check)"
   ]
  },
  {
   "cell_type": "markdown",
   "id": "7f02afa3",
   "metadata": {},
   "source": [
    "# TASK Num:7"
   ]
  },
  {
   "cell_type": "code",
   "execution_count": 27,
   "id": "233d8c6d",
   "metadata": {},
   "outputs": [
    {
     "data": {
      "text/plain": [
       "False"
      ]
     },
     "execution_count": 27,
     "metadata": {},
     "output_type": "execute_result"
    }
   ],
   "source": [
    "names = [\"Terry\", \"John\", \"Michael\", \"Eric\", \"Terry\", \"Graham\"]\n",
    "\"jane\" in names\n"
   ]
  },
  {
   "cell_type": "code",
   "execution_count": 25,
   "id": "2c79213f",
   "metadata": {},
   "outputs": [
    {
     "data": {
      "text/plain": [
       "True"
      ]
     },
     "execution_count": 25,
     "metadata": {},
     "output_type": "execute_result"
    }
   ],
   "source": [
    "names = [\"Terry\", \"John\", \"Michael\", \"Eric\", \"Terry\", \"Graham\"]\n",
    "\"Mark\" not in names"
   ]
  },
  {
   "cell_type": "code",
   "execution_count": 29,
   "id": "6bcbf038",
   "metadata": {},
   "outputs": [
    {
     "data": {
      "text/plain": [
       "False"
      ]
     },
     "execution_count": 29,
     "metadata": {},
     "output_type": "execute_result"
    }
   ],
   "source": [
    "message = \"Hello there, my name is John\"\n",
    "\"xyz\" in message"
   ]
  },
  {
   "cell_type": "markdown",
   "id": "2925f451",
   "metadata": {},
   "source": [
    "# TASK Num:8"
   ]
  },
  {
   "cell_type": "code",
   "execution_count": 37,
   "id": "cccfb734",
   "metadata": {},
   "outputs": [
    {
     "name": "stdout",
     "output_type": "stream",
     "text": [
      "You are still young!\n"
     ]
    }
   ],
   "source": [
    "age = 21\n",
    "if 18<= age <= 30:\n",
    "    print(\"You are still young!\")\n",
    "else:\n",
    "    print(\"You are not in the age range of 18 to 30.\")"
   ]
  },
  {
   "cell_type": "markdown",
   "id": "226af5d0",
   "metadata": {},
   "source": [
    "# TASK Num:9"
   ]
  },
  {
   "cell_type": "code",
   "execution_count": 38,
   "id": "c870a115",
   "metadata": {},
   "outputs": [
    {
     "name": "stdout",
     "output_type": "stream",
     "text": [
      "You are in your thirties.\n",
      "Enjoy this phase of your life.\n"
     ]
    }
   ],
   "source": [
    "age = 35\n",
    "\n",
    "if age > 100:\n",
    "    print(\"You are very old.\")\n",
    "    print(\"Well done!\")\n",
    "elif age > 80:\n",
    "    print(\"You are fairly old.\")\n",
    "    print(\"Pretty good!\")\n",
    "elif age > 40:\n",
    "    print(\"You are middle-aged.\")\n",
    "    print(\"Never mind.\")\n",
    "elif 30 <= age <= 40:\n",
    "    print(\"You are in your thirties.\")\n",
    "    print(\"Enjoy this phase of your life.\")\n",
    "else:\n",
    "    print(\"You are not very old - yet.\")"
   ]
  },
  {
   "cell_type": "markdown",
   "id": "46a52a61",
   "metadata": {},
   "source": [
    "# TASK Num:10"
   ]
  },
  {
   "cell_type": "code",
   "execution_count": 40,
   "id": "caa6d00e",
   "metadata": {},
   "outputs": [
    {
     "name": "stdout",
     "output_type": "stream",
     "text": [
      "Total is non-zero\n"
     ]
    }
   ],
   "source": [
    "total = 42  \n",
    "if total != 0:\n",
    "    print(\"Total is non-zero\")\n",
    "else:\n",
    "    print(\"Total is zero\")"
   ]
  },
  {
   "cell_type": "markdown",
   "id": "e064c04c",
   "metadata": {},
   "source": [
    "# TASK Num:11"
   ]
  },
  {
   "cell_type": "code",
   "execution_count": 41,
   "id": "ffc9a617",
   "metadata": {},
   "outputs": [
    {
     "name": "stdout",
     "output_type": "stream",
     "text": [
      "You are an adult\n"
     ]
    }
   ],
   "source": [
    "print(\"You are an adult\") if age >= 18 else print(\"You are not an adult, yet!\")"
   ]
  },
  {
   "cell_type": "markdown",
   "id": "0d66e7fe",
   "metadata": {},
   "source": [
    "# TASK Num:12"
   ]
  },
  {
   "cell_type": "code",
   "execution_count": 42,
   "id": "40cfa4ca",
   "metadata": {},
   "outputs": [
    {
     "name": "stdout",
     "output_type": "stream",
     "text": [
      "Alice\n",
      "Bob\n",
      "Charlie\n",
      "David\n"
     ]
    }
   ],
   "source": [
    "names = [\"Alice\", \"Bob\", \"Charlie\", \"David\"]\n",
    "\n",
    "for name in names:\n",
    "    print(name)"
   ]
  },
  {
   "cell_type": "markdown",
   "id": "549e3c26",
   "metadata": {},
   "source": [
    "# TASK Num:13"
   ]
  },
  {
   "cell_type": "code",
   "execution_count": 43,
   "id": "9a0b1a65",
   "metadata": {},
   "outputs": [
    {
     "name": "stdout",
     "output_type": "stream",
     "text": [
      "2 to the power of 2 = 4\n",
      "4 to the power of 4 = 256\n",
      "6 to the power of 6 = 46656\n",
      "8 to the power of 8 = 16777216\n",
      "10 to the power of 10 = 10000000000\n"
     ]
    }
   ],
   "source": [
    "for i in range(2, 11, 2):  \n",
    "    result = i ** i\n",
    "    print(f\"{i} to the power of {i} = {result}\")"
   ]
  },
  {
   "cell_type": "markdown",
   "id": "84d4ae4e",
   "metadata": {},
   "source": [
    "# TASK Num:14"
   ]
  },
  {
   "cell_type": "code",
   "execution_count": 45,
   "id": "2ebfdfac",
   "metadata": {},
   "outputs": [
    {
     "name": "stdout",
     "output_type": "stream",
     "text": [
      "Current running total: 10\n",
      "Current running total: 30\n",
      "Current running total: 60\n",
      "Current running total: 150\n",
      "Current running total: 350\n",
      "Current running total: 380\n",
      "Current running total: 402\n",
      "Current running total: 413\n"
     ]
    }
   ],
   "source": [
    "numbers = [10, 20, 30, 90, 200, 30, 22, 11]\n",
    "\n",
    "running_total = 0\n",
    "\n",
    "for num in numbers:\n",
    "    running_total += num\n",
    "    print(f\"Current running total: {running_total}\")\n",
    "    \n",
    "\n",
    "   "
   ]
  },
  {
   "cell_type": "markdown",
   "id": "e8d52cb4",
   "metadata": {},
   "source": [
    "# TASK Num: 15"
   ]
  },
  {
   "cell_type": "code",
   "execution_count": 48,
   "id": "df0cf4e4",
   "metadata": {},
   "outputs": [
    {
     "name": "stdout",
     "output_type": "stream",
     "text": [
      "Current running total: 10\n",
      "Current running total: 30\n",
      "Current running total: 60\n",
      "Current running total: 150\n",
      "Current running total: 350\n",
      "Breaking the loop because 200 is over 100.\n"
     ]
    }
   ],
   "source": [
    " numbers = [10, 20, 30, 90, 200, 30, 22, 11]\n",
    " \n",
    " running_total = 0\n",
    "\n",
    "for num in numbers:\n",
    "    running_total += num\n",
    "    print(f\"Current running total: {running_total}\")\n",
    "\n",
    "    if num > 100:\n",
    "        print(f\"Breaking the loop because {num} is over 100.\")\n",
    "        break"
   ]
  },
  {
   "cell_type": "markdown",
   "id": "2d78f75e",
   "metadata": {},
   "source": [
    "# TASK Num:16"
   ]
  },
  {
   "cell_type": "code",
   "execution_count": 49,
   "id": "1cf1a599",
   "metadata": {},
   "outputs": [
    {
     "name": "stdout",
     "output_type": "stream",
     "text": [
      "Current running total: 10\n",
      "Current running total: 30\n",
      "Current running total: 60\n",
      "Current running total: 150\n",
      "Current running total: 350\n",
      "Breaking the loop because 200 is over 100.\n"
     ]
    }
   ],
   "source": [
    "numbers = [10, 20, 30, 90, 200, 30, 22, 11]\n",
    "\n",
    "running_total = 0\n",
    "\n",
    "for num in numbers:\n",
    "    running_total += num\n",
    "    print(f\"Current running total: {running_total}\")\n",
    "\n",
    "    if num > 100:\n",
    "        print(f\"Breaking the loop because {num} is over 100.\")\n",
    "        break\n",
    "else:\n",
    "    print(\"All numbers processed\")"
   ]
  },
  {
   "cell_type": "code",
   "execution_count": null,
   "id": "0162f8af",
   "metadata": {},
   "outputs": [],
   "source": []
  },
  {
   "cell_type": "code",
   "execution_count": null,
   "id": "62029c54",
   "metadata": {},
   "outputs": [],
   "source": []
  }
 ],
 "metadata": {
  "kernelspec": {
   "display_name": "Python 3 (ipykernel)",
   "language": "python",
   "name": "python3"
  },
  "language_info": {
   "codemirror_mode": {
    "name": "ipython",
    "version": 3
   },
   "file_extension": ".py",
   "mimetype": "text/x-python",
   "name": "python",
   "nbconvert_exporter": "python",
   "pygments_lexer": "ipython3",
   "version": "3.10.9"
  }
 },
 "nbformat": 4,
 "nbformat_minor": 5
}
